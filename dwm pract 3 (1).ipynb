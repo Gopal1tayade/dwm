{
 "cells": [
  {
   "cell_type": "code",
   "execution_count": 1,
   "id": "f1e4944b",
   "metadata": {},
   "outputs": [
    {
     "data": {
      "application/javascript": [
       "\n",
       "        if (window._pyforest_update_imports_cell) { window._pyforest_update_imports_cell('import numpy as np'); }\n",
       "    "
      ],
      "text/plain": [
       "<IPython.core.display.Javascript object>"
      ]
     },
     "metadata": {},
     "output_type": "display_data"
    },
    {
     "name": "stdout",
     "output_type": "stream",
     "text": [
      "minimum: -2\n",
      "maximum 4\n"
     ]
    },
    {
     "data": {
      "application/javascript": [
       "\n",
       "        if (window._pyforest_update_imports_cell) { window._pyforest_update_imports_cell('import numpy as np'); }\n",
       "    "
      ],
      "text/plain": [
       "<IPython.core.display.Javascript object>"
      ]
     },
     "metadata": {},
     "output_type": "display_data"
    },
    {
     "name": "stdout",
     "output_type": "stream",
     "text": [
      "mean: 3.0\n"
     ]
    },
    {
     "data": {
      "application/javascript": [
       "\n",
       "        if (window._pyforest_update_imports_cell) { window._pyforest_update_imports_cell('import numpy as np'); }\n",
       "    "
      ],
      "text/plain": [
       "<IPython.core.display.Javascript object>"
      ]
     },
     "metadata": {},
     "output_type": "display_data"
    },
    {
     "name": "stdout",
     "output_type": "stream",
     "text": [
      "median: 3.0\n",
      "standard deviation 1.4142135623730951\n"
     ]
    }
   ],
   "source": [
    "#min for finding minimum of an array \n",
    "a=np.array([[1,3,-1,4],[3,-2,1,4]])\n",
    "b=a.min() \n",
    "print(\"minimum:\",b)\n",
    " \n",
    "#max for finding maximum of an array \n",
    "c=a.max() \n",
    "print(\"maximum\",c) \n",
    "\n",
    "#mean \n",
    "a=np.array([1,2,3,4,5])\n",
    "d=a.mean()\n",
    "print(\"mean:\",d)\n",
    "\n",
    "#median\n",
    "e=np.median(a) \n",
    "print(\"median:\",e) \n",
    "\n",
    "#standard deviation \n",
    "f=a.std() \n",
    "print(\"standard deviation\",f)\n"
   ]
  },
  {
   "cell_type": "code",
   "execution_count": 2,
   "id": "20c1fcb8",
   "metadata": {},
   "outputs": [
    {
     "name": "stdout",
     "output_type": "stream",
     "text": [
      "3.7416573867739413\n"
     ]
    }
   ],
   "source": [
    "#Using linalg.norm() method\n",
    "import numpy as np\n",
    "point1=np.array((4,4,2))\n",
    "point2=np.array((1,2,1))\n",
    "dist=np.linalg.norm(point1-point2)\n",
    "print(dist)"
   ]
  },
  {
   "cell_type": "code",
   "execution_count": 3,
   "id": "9d4f52b3",
   "metadata": {},
   "outputs": [
    {
     "name": "stdout",
     "output_type": "stream",
     "text": [
      "3.7416573867739413\n"
     ]
    }
   ],
   "source": [
    "#Using dot product and square root functions\n",
    "temp=point1-point2\n",
    "dist=np.sqrt(np.dot(temp.T,temp))\n",
    "print(dist)"
   ]
  },
  {
   "cell_type": "code",
   "execution_count": 4,
   "id": "d1010a11",
   "metadata": {},
   "outputs": [
    {
     "name": "stdout",
     "output_type": "stream",
     "text": [
      "3.7416573867739413\n"
     ]
    }
   ],
   "source": [
    "#Using distance.euclidean() from SciPy module\n",
    "\n",
    "from scipy.spatial import distance\n",
    "point1=(4,4,2)\n",
    "point2=(1,2,1)\n",
    "print(distance.euclidean(point1,point2))\n"
   ]
  },
  {
   "cell_type": "code",
   "execution_count": 5,
   "id": "2e564f99",
   "metadata": {},
   "outputs": [
    {
     "data": {
      "text/html": [
       "<div>\n",
       "<style scoped>\n",
       "    .dataframe tbody tr th:only-of-type {\n",
       "        vertical-align: middle;\n",
       "    }\n",
       "\n",
       "    .dataframe tbody tr th {\n",
       "        vertical-align: top;\n",
       "    }\n",
       "\n",
       "    .dataframe thead th {\n",
       "        text-align: right;\n",
       "    }\n",
       "</style>\n",
       "<table border=\"1\" class=\"dataframe\">\n",
       "  <thead>\n",
       "    <tr style=\"text-align: right;\">\n",
       "      <th></th>\n",
       "      <th>sepal_length</th>\n",
       "      <th>sepal_width</th>\n",
       "      <th>petal_length</th>\n",
       "      <th>petal_width</th>\n",
       "      <th>species</th>\n",
       "    </tr>\n",
       "  </thead>\n",
       "  <tbody>\n",
       "    <tr>\n",
       "      <th>0</th>\n",
       "      <td>5.1</td>\n",
       "      <td>3.5</td>\n",
       "      <td>1.4</td>\n",
       "      <td>0.2</td>\n",
       "      <td>Iris-setosa</td>\n",
       "    </tr>\n",
       "    <tr>\n",
       "      <th>1</th>\n",
       "      <td>4.9</td>\n",
       "      <td>3.0</td>\n",
       "      <td>1.4</td>\n",
       "      <td>0.2</td>\n",
       "      <td>Iris-setosa</td>\n",
       "    </tr>\n",
       "    <tr>\n",
       "      <th>2</th>\n",
       "      <td>4.7</td>\n",
       "      <td>3.2</td>\n",
       "      <td>1.3</td>\n",
       "      <td>0.2</td>\n",
       "      <td>Iris-setosa</td>\n",
       "    </tr>\n",
       "    <tr>\n",
       "      <th>3</th>\n",
       "      <td>4.6</td>\n",
       "      <td>3.1</td>\n",
       "      <td>1.5</td>\n",
       "      <td>0.2</td>\n",
       "      <td>Iris-setosa</td>\n",
       "    </tr>\n",
       "    <tr>\n",
       "      <th>4</th>\n",
       "      <td>5.0</td>\n",
       "      <td>3.6</td>\n",
       "      <td>1.4</td>\n",
       "      <td>0.2</td>\n",
       "      <td>Iris-setosa</td>\n",
       "    </tr>\n",
       "    <tr>\n",
       "      <th>...</th>\n",
       "      <td>...</td>\n",
       "      <td>...</td>\n",
       "      <td>...</td>\n",
       "      <td>...</td>\n",
       "      <td>...</td>\n",
       "    </tr>\n",
       "    <tr>\n",
       "      <th>145</th>\n",
       "      <td>6.7</td>\n",
       "      <td>3.0</td>\n",
       "      <td>5.2</td>\n",
       "      <td>2.3</td>\n",
       "      <td>Iris-virginica</td>\n",
       "    </tr>\n",
       "    <tr>\n",
       "      <th>146</th>\n",
       "      <td>6.3</td>\n",
       "      <td>2.5</td>\n",
       "      <td>5.0</td>\n",
       "      <td>1.9</td>\n",
       "      <td>Iris-virginica</td>\n",
       "    </tr>\n",
       "    <tr>\n",
       "      <th>147</th>\n",
       "      <td>6.5</td>\n",
       "      <td>3.0</td>\n",
       "      <td>5.2</td>\n",
       "      <td>2.0</td>\n",
       "      <td>Iris-virginica</td>\n",
       "    </tr>\n",
       "    <tr>\n",
       "      <th>148</th>\n",
       "      <td>6.2</td>\n",
       "      <td>3.4</td>\n",
       "      <td>5.4</td>\n",
       "      <td>2.3</td>\n",
       "      <td>Iris-virginica</td>\n",
       "    </tr>\n",
       "    <tr>\n",
       "      <th>149</th>\n",
       "      <td>5.9</td>\n",
       "      <td>3.0</td>\n",
       "      <td>5.1</td>\n",
       "      <td>1.8</td>\n",
       "      <td>Iris-virginica</td>\n",
       "    </tr>\n",
       "  </tbody>\n",
       "</table>\n",
       "<p>150 rows × 5 columns</p>\n",
       "</div>"
      ],
      "text/plain": [
       "     sepal_length  sepal_width  petal_length  petal_width         species\n",
       "0             5.1          3.5           1.4          0.2     Iris-setosa\n",
       "1             4.9          3.0           1.4          0.2     Iris-setosa\n",
       "2             4.7          3.2           1.3          0.2     Iris-setosa\n",
       "3             4.6          3.1           1.5          0.2     Iris-setosa\n",
       "4             5.0          3.6           1.4          0.2     Iris-setosa\n",
       "..            ...          ...           ...          ...             ...\n",
       "145           6.7          3.0           5.2          2.3  Iris-virginica\n",
       "146           6.3          2.5           5.0          1.9  Iris-virginica\n",
       "147           6.5          3.0           5.2          2.0  Iris-virginica\n",
       "148           6.2          3.4           5.4          2.3  Iris-virginica\n",
       "149           5.9          3.0           5.1          1.8  Iris-virginica\n",
       "\n",
       "[150 rows x 5 columns]"
      ]
     },
     "execution_count": 5,
     "metadata": {},
     "output_type": "execute_result"
    }
   ],
   "source": [
    "#Calculate median, percentile, quantile and IQR on given iris.csv dataset\n",
    "\n",
    "import pandas as pd\n",
    "import numpy as np\n",
    "import matplotlib.pyplot as plt\n",
    "import seaborn as sns\n",
    "\n",
    "#Load Iris.csv into a pandas dataFrame.\n",
    "iris = pd.read_csv('IRIS.csv')\n",
    "# displaying the data\n",
    "iris\n",
    "setosa = iris.loc[iris['species'] == \"Iris-setosa\"]\n",
    "virginica = iris.loc[iris['species'] == 'Iris-virginica']\n",
    "versicolor = iris.loc[iris['species'] == 'Iris-versicolor']\n",
    "iris\n"
   ]
  },
  {
   "cell_type": "code",
   "execution_count": 6,
   "id": "0972f61d",
   "metadata": {},
   "outputs": [
    {
     "name": "stdout",
     "output_type": "stream",
     "text": [
      "Median\n",
      "4.35\n",
      "1.5\n",
      "5.55\n",
      "4.35\n",
      "Quantiles\n",
      "[1.    1.4   1.5   1.575]\n",
      "[4.5   5.1   5.55  5.875]\n",
      "[3.   4.   4.35 4.6 ]\n",
      "90th Percentiles\n",
      "1.7\n",
      "6.31\n",
      "4.8\n",
      "Median Absolute Deviation\n",
      "0.14826022185056031\n",
      "0.6671709983275211\n",
      "0.5189107764769602\n"
     ]
    }
   ],
   "source": [
    "#Median, Quantiles, Percentiles, IQR.\n",
    "'''\n",
    "print(iris)\n",
    "setosa = iris.loc[iris['species'] == \"setosa\"]\n",
    "virginica = iris.loc[iris['species'] == 'virginica']\n",
    "versicolor = iris.loc[iris['species'] == 'versicolor']'''\n",
    "print(\"Median\")\n",
    "print(np.median(versicolor['petal_length']))\n",
    "#iris\n",
    "#Median with an outlier\n",
    "print(np.median(np.append(setosa['petal_length'], 50)))\n",
    "print(np.median(virginica['petal_length']))\n",
    "print(np.median(versicolor['petal_length']))\n",
    "\n",
    "# Quantiles\n",
    "\n",
    "print(\"Quantiles\")\n",
    "print(np.percentile(setosa['petal_length'], np.arange(0, 100, 25)))#, np.arange(0, 100, 25)))\n",
    "print(np.percentile(virginica['petal_length'], np.arange(0, 100, 25)))\n",
    "print(np.percentile(versicolor['petal_length'], np.arange(0, 100, 25)))\n",
    "\n",
    "# 90th Percentiles\n",
    "print(\"90th Percentiles\")\n",
    "print(np.percentile(setosa['petal_length'], 90))\n",
    "print(np.percentile(virginica['petal_length'], 90))\n",
    "print(np.percentile(versicolor['petal_length'], 90))\n",
    "\n",
    "# Median Absolute Deviation\n",
    "from statsmodels import robust\n",
    "print(\"Median Absolute Deviation\")\n",
    "print(robust.mad(setosa['petal_length']))\n",
    "print(robust.mad(virginica['petal_length']))\n",
    "print(robust.mad(versicolor['petal_length']))\n"
   ]
  },
  {
   "cell_type": "code",
   "execution_count": null,
   "id": "e9bb2bab",
   "metadata": {},
   "outputs": [],
   "source": []
  }
 ],
 "metadata": {
  "kernelspec": {
   "display_name": "Python 3 (ipykernel)",
   "language": "python",
   "name": "python3"
  },
  "language_info": {
   "codemirror_mode": {
    "name": "ipython",
    "version": 3
   },
   "file_extension": ".py",
   "mimetype": "text/x-python",
   "name": "python",
   "nbconvert_exporter": "python",
   "pygments_lexer": "ipython3",
   "version": "3.11.3"
  }
 },
 "nbformat": 4,
 "nbformat_minor": 5
}
